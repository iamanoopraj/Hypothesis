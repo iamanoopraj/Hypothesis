{
 "cells": [
  {
   "cell_type": "code",
   "execution_count": 1,
   "id": "35fc7e0e-8a22-4259-8713-f0099e39c019",
   "metadata": {},
   "outputs": [
    {
     "name": "stdout",
     "output_type": "stream",
     "text": [
      "Requirement already satisfied: scipy in c:\\users\\anoop raj\\anaconda3\\lib\\site-packages (1.11.4)\n",
      "Requirement already satisfied: numpy<1.28.0,>=1.21.6 in c:\\users\\anoop raj\\anaconda3\\lib\\site-packages (from scipy) (1.26.4)\n",
      "Note: you may need to restart the kernel to use updated packages.\n"
     ]
    }
   ],
   "source": [
    "pip install scipy"
   ]
  },
  {
   "cell_type": "code",
   "execution_count": 3,
   "id": "857827df-52cb-43c0-be21-c87a73027412",
   "metadata": {},
   "outputs": [],
   "source": [
    "import numpy as np\n",
    "import matplotlib.pyplot as plt\n",
    "import seaborn as sns\n",
    "\n",
    "from scipy.stats import shapiro "
   ]
  },
  {
   "cell_type": "markdown",
   "id": "253c34d2-0976-4f68-96a4-85d8e17905fd",
   "metadata": {},
   "source": [
    "# Shapiro test \n",
    "\n",
    "Ho : Data is normally distributed "
   ]
  },
  {
   "cell_type": "code",
   "execution_count": 4,
   "id": "514dde07-ee7d-44c2-af8a-6e471a21bba2",
   "metadata": {},
   "outputs": [],
   "source": [
    "pop = np.random.normal(25,3,2000)"
   ]
  },
  {
   "cell_type": "code",
   "execution_count": 6,
   "id": "e9afd244-fd75-4e7b-a063-d4b9b4bb5cbb",
   "metadata": {},
   "outputs": [
    {
     "name": "stderr",
     "output_type": "stream",
     "text": [
      "C:\\Users\\Anoop Raj\\anaconda3\\Lib\\site-packages\\seaborn\\_oldcore.py:1119: FutureWarning: use_inf_as_na option is deprecated and will be removed in a future version. Convert inf values to NaN before operating instead.\n",
      "  with pd.option_context('mode.use_inf_as_na', True):\n"
     ]
    },
    {
     "data": {
      "text/plain": [
       "<Axes: ylabel='Density'>"
      ]
     },
     "execution_count": 6,
     "metadata": {},
     "output_type": "execute_result"
    },
    {
     "data": {
      "image/png": "[encoded data removed]",
      "text/plain": [
       "<Figure size 640x480 with 1 Axes>"
      ]
     },
     "metadata": {},
     "output_type": "display_data"
    }
   ],
   "source": [
    "sns.kdeplot(pop)"
   ]
  },
  {
   "cell_type": "code",
   "execution_count": 8,
   "id": "efec9180-3720-4264-ac0a-23f983ef609c",
   "metadata": {},
   "outputs": [],
   "source": [
    "sample = np.random.choice(pop,30)"
   ]
  },
  {
   "cell_type": "code",
   "execution_count": 9,
   "id": "2e92254f-8011-4f64-8b48-e066426fb930",
   "metadata": {},
   "outputs": [],
   "source": [
    "stats,p = shapiro(sample)"
   ]
  },
  {
   "cell_type": "code",
   "execution_count": 13,
   "id": "a1c076b3-09f6-4900-9cae-28fea8cecf92",
   "metadata": {},
   "outputs": [
    {
     "data": {
      "text/plain": [
       "0.9709283709526062"
      ]
     },
     "execution_count": 13,
     "metadata": {},
     "output_type": "execute_result"
    }
   ],
   "source": [
    "stats"
   ]
  },
  {
   "cell_type": "code",
   "execution_count": 14,
   "id": "64a03ba1-178e-457b-9d8c-421c2ecc5eeb",
   "metadata": {},
   "outputs": [
    {
     "data": {
      "text/plain": [
       "0.5648804903030396"
      ]
     },
     "execution_count": 14,
     "metadata": {},
     "output_type": "execute_result"
    }
   ],
   "source": [
    "p"
   ]
  },
  {
   "cell_type": "code",
   "execution_count": 15,
   "id": "72876427-7324-4cc9-93b0-701703874072",
   "metadata": {},
   "outputs": [],
   "source": [
    "def conclsion(p):\n",
    "    if p<=0.05:\n",
    "        return 'Reject Null hypothesis'\n",
    "    else:\n",
    "        return 'Fail to Reject Null Hypothesis'"
   ]
  },
  {
   "cell_type": "code",
   "execution_count": 35,
   "id": "557d71cb-3af8-41b9-a971-f6b015cfa1a2",
   "metadata": {},
   "outputs": [
    {
     "data": {
      "text/plain": [
       "'Reject Null hypothesis'"
      ]
     },
     "execution_count": 35,
     "metadata": {},
     "output_type": "execute_result"
    }
   ],
   "source": [
    "conclsion(p)"
   ]
  },
  {
   "cell_type": "markdown",
   "id": "591f613f-854c-451f-85d6-446418bb8d5e",
   "metadata": {},
   "source": [
    "# One sample T-test\n",
    "\n",
    "#<p style=\"color:yellow; font-size:20px\"><i><b><strong>A company claims that the average weight of a certain brand of cereal in a box is 500 grams. A <u>sample</u> of 20 boxes has <u>an average weight of 495grams</u> with a standard deviation of 10 grams. Test at the 5% significant level whether the average weoght differs from the claimed weight."
   ]
  },
  {
   "cell_type": "code",
   "execution_count": 17,
   "id": "9e1b4d47-4274-41a9-aa21-e296a799f5b7",
   "metadata": {},
   "outputs": [],
   "source": [
    "pop_mean = 500\n",
    "sample_mean = 495\n",
    "sample_size = 20\n",
    "sample_std = 10"
   ]
  },
  {
   "cell_type": "code",
   "execution_count": 19,
   "id": "7f11a062-69b1-407e-807b-7c2cd015726a",
   "metadata": {},
   "outputs": [],
   "source": [
    "sample = np.random.normal(sample_mean,sample_std,sample_size)"
   ]
  },
  {
   "cell_type": "code",
   "execution_count": 20,
   "id": "497f2474-247e-4e4f-8394-04b96e2d2039",
   "metadata": {},
   "outputs": [
    {
     "data": {
      "text/plain": [
       "array([481.28698406, 506.16552026, 499.13495071, 509.36726571,\n",
       "       483.10479125, 478.72976182, 493.45148812, 505.97872929,\n",
       "       497.72287209, 492.91249616, 509.27590839, 492.76172279,\n",
       "       498.47964955, 499.61909321, 484.25224696, 512.58276498,\n",
       "       496.72724817, 489.57255588, 498.04136371, 515.74902528])"
      ]
     },
     "execution_count": 20,
     "metadata": {},
     "output_type": "execute_result"
    }
   ],
   "source": [
    "sample"
   ]
  },
  {
   "cell_type": "code",
   "execution_count": 21,
   "id": "34101b34-849b-4876-8862-f2ed5d052be2",
   "metadata": {},
   "outputs": [],
   "source": [
    "from scipy.stats import ttest_1samp"
   ]
  },
  {
   "cell_type": "code",
   "execution_count": 26,
   "id": "41725bca-d014-4473-a0ac-152ee7aa85d5",
   "metadata": {},
   "outputs": [],
   "source": [
    "tstat,p = ttest_1samp(sample,pop_mean)"
   ]
  },
  {
   "cell_type": "code",
   "execution_count": 34,
   "id": "1f6ac440-493f-4bd8-8bb4-6c280e125db6",
   "metadata": {},
   "outputs": [
    {
     "data": {
      "text/plain": [
       "'Reject Null hypothesis'"
      ]
     },
     "execution_count": 34,
     "metadata": {},
     "output_type": "execute_result"
    }
   ],
   "source": [
    "conclsion(p)"
   ]
  },
  {
   "cell_type": "markdown",
   "id": "11bc9953-7b07-449b-8607-9e800cb540ef",
   "metadata": {},
   "source": [
    "# Two Sample Independence T-test\n",
    "\n",
    "#<p style=\"color:green; font-size:20px\"><strong><i>Two different teaching methods are tested on two groups of students. Group A (n=30) has a mean score of 85 with a standard deviation of 5. Group B (n=30) has a mean score of 80 with a standard deviation of 6. Test at the 5% significance level whether the mean scores of the two groups are different."
   ]
  },
  {
   "cell_type": "code",
   "execution_count": 29,
   "id": "45c936eb-1c84-49e1-b98f-99999011a150",
   "metadata": {},
   "outputs": [],
   "source": [
    "mean_a = 85\n",
    "std_a = 5\n",
    "size_a = 30\n",
    "\n",
    "mean_b = 80\n",
    "std_b = 6\n",
    "size_b = 30"
   ]
  },
  {
   "cell_type": "code",
   "execution_count": 30,
   "id": "d65c73cf-89be-4379-ba89-a139918de143",
   "metadata": {},
   "outputs": [],
   "source": [
    "sampleA = np.random.normal(mean_a,std_a,size_a)\n",
    "sampleB = np.random.normal(mean_b,std_b,size_b)"
   ]
  },
  {
   "cell_type": "code",
   "execution_count": 31,
   "id": "b23a9136-cd4f-44f6-8928-5091b822e77a",
   "metadata": {},
   "outputs": [],
   "source": [
    "from scipy.stats import ttest_ind"
   ]
  },
  {
   "cell_type": "code",
   "execution_count": 32,
   "id": "cb0a65f4-1be2-4169-9fae-6880c8747d26",
   "metadata": {},
   "outputs": [],
   "source": [
    "tstat,p = ttest_ind(sampleA,sampleB)"
   ]
  },
  {
   "cell_type": "code",
   "execution_count": 33,
   "id": "2f2a40d3-a926-4a86-bc6b-4e7e30d4b8a1",
   "metadata": {},
   "outputs": [
    {
     "data": {
      "text/plain": [
       "'Reject Null hypothesis'"
      ]
     },
     "execution_count": 33,
     "metadata": {},
     "output_type": "execute_result"
    }
   ],
   "source": [
    "conclsion(p)"
   ]
  },
  {
   "cell_type": "markdown",
   "id": "f5f068b7-20b0-4424-8fd5-b5ac843288af",
   "metadata": {},
   "source": [
    "# Two sample Dependent T-test\n",
    "\n",
    "# # \r\n",
    "<p style=\"color:red; font-size:20px;\"><strong><i>\r\n",
    "A dietitian wants to test the effectiveness of a new diet program. She records the weights of 10 patients before and after the program. The differences in weight (before - after) are recorded as: 2,  3, -2,  4, -2, -2,  1,  3, -1,  2 (in kg). \r\n",
    "The weights before and after the program are:\r\n",
    "    \r\n",
    "    * Before: 72, 74, 78, 75, 76, 77, 74, 75, 76, 78 \r\n",
    "    * After : 70, 71, 80, 71, 78, 79, 73, 72, 77, 76\r\n",
    "    \r\n",
    "    \r\n",
    "Test at the 5% significance level whether the diet program is effective."
   ]
  },
  {
   "cell_type": "code",
   "execution_count": 38,
   "id": "21e419a3-f19e-43da-a4bc-3f34f25a4ce9",
   "metadata": {},
   "outputs": [],
   "source": [
    "before = np.array([72, 74, 78, 75, 76, 77, 74, 75, 76, 78])\n",
    "after = np.array([70, 71, 80, 71, 78, 79, 73, 72, 77, 76])"
   ]
  },
  {
   "cell_type": "code",
   "execution_count": 39,
   "id": "9a604c21-baf6-4ddc-b055-785ca233ae8c",
   "metadata": {},
   "outputs": [],
   "source": [
    "from scipy.stats import ttest_rel"
   ]
  },
  {
   "cell_type": "code",
   "execution_count": 40,
   "id": "cc86f661-6cdd-4949-ac95-662ec193173c",
   "metadata": {},
   "outputs": [],
   "source": [
    "tstat,p = ttest_rel(before,after)"
   ]
  },
  {
   "cell_type": "code",
   "execution_count": 41,
   "id": "54909025-38e3-434b-8795-846bbf9b191a",
   "metadata": {},
   "outputs": [
    {
     "data": {
      "text/plain": [
       "'Fail to Reject Null Hypothesis'"
      ]
     },
     "execution_count": 41,
     "metadata": {},
     "output_type": "execute_result"
    }
   ],
   "source": [
    "conclsion(p)"
   ]
  },
  {
   "cell_type": "code",
   "execution_count": null,
   "id": "c985d4ca-6d61-449c-8b8f-2932863f145b",
   "metadata": {},
   "outputs": [],
   "source": []
  }
 ],
 "metadata": {
  "kernelspec": {
   "display_name": "Python 3 (ipykernel)",
   "language": "python",
   "name": "python3"
  },
  "language_info": {
   "codemirror_mode": {
    "name": "ipython",
    "version": 3
   },
   "file_extension": ".py",
   "mimetype": "text/x-python",
   "name": "python",
   "nbconvert_exporter": "python",
   "pygments_lexer": "ipython3",
   "version": "3.11.7"
  },
  "widgets": {
   "application/vnd.jupyter.widget-state+json": {
    "state": {},
    "version_major": 2,
    "version_minor": 0
   }
  }
 },
 "nbformat": 4,
 "nbformat_minor": 5
}
